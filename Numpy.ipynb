{
 "cells": [
  {
   "cell_type": "code",
   "execution_count": 3,
   "id": "a5298164",
   "metadata": {},
   "outputs": [
    {
     "data": {
      "text/plain": [
       "4.0"
      ]
     },
     "execution_count": 3,
     "metadata": {},
     "output_type": "execute_result"
    }
   ],
   "source": [
    "#importing a module\n",
    "import math as m\n",
    "m.sqrt(16)"
   ]
  },
  {
   "cell_type": "code",
   "execution_count": 4,
   "id": "b6bada05",
   "metadata": {},
   "outputs": [],
   "source": [
    "#Python list a generally very slow and are mutable so they are not compact i.e they can hold any type of value\n",
    "#So for this we will use numpy\n",
    "#It will Hold Only same type of Data and is also very fast as mostly codes are written in C.\n",
    "\n",
    "\n"
   ]
  },
  {
   "cell_type": "code",
   "execution_count": 22,
   "id": "c50cba23",
   "metadata": {},
   "outputs": [
    {
     "name": "stdout",
     "output_type": "stream",
     "text": [
      "[2, 3, '34']\n",
      "[0. 0. 0. 0. 0. 0. 0. 0. 0. 0.]\n",
      "[1. 1. 1. 1. 1. 1. 1. 1. 1. 1.]\n",
      "[0 0 0 0 0 0 0 0 0 0]\n",
      "['1' '1' '1' '1' '1' '1' '1' '1' '1' '1']\n",
      "[[0. 0. 0. 0. 0.]\n",
      " [0. 0. 0. 0. 0.]\n",
      " [0. 0. 0. 0. 0.]\n",
      " [0. 0. 0. 0. 0.]\n",
      " [0. 0. 0. 0. 0.]]\n",
      "[[1. 1. 1. 1. 1.]\n",
      " [1. 1. 1. 1. 1.]\n",
      " [1. 1. 1. 1. 1.]\n",
      " [1. 1. 1. 1. 1.]\n",
      " [1. 1. 1. 1. 1.]]\n",
      "[[0 0 0 0 0]\n",
      " [0 0 0 0 0]\n",
      " [0 0 0 0 0]\n",
      " [0 0 0 0 0]\n",
      " [0 0 0 0 0]]\n",
      "[['1' '1' '1' '1' '1']\n",
      " ['1' '1' '1' '1' '1']\n",
      " ['1' '1' '1' '1' '1']\n",
      " ['1' '1' '1' '1' '1']\n",
      " ['1' '1' '1' '1' '1']]\n",
      "\n",
      "Multi Dimensional Array\n",
      "\n",
      "[[[0. 0. 0. 0. 0.]\n",
      "  [0. 0. 0. 0. 0.]\n",
      "  [0. 0. 0. 0. 0.]\n",
      "  [0. 0. 0. 0. 0.]\n",
      "  [0. 0. 0. 0. 0.]]\n",
      "\n",
      " [[0. 0. 0. 0. 0.]\n",
      "  [0. 0. 0. 0. 0.]\n",
      "  [0. 0. 0. 0. 0.]\n",
      "  [0. 0. 0. 0. 0.]\n",
      "  [0. 0. 0. 0. 0.]]\n",
      "\n",
      " [[0. 0. 0. 0. 0.]\n",
      "  [0. 0. 0. 0. 0.]\n",
      "  [0. 0. 0. 0. 0.]\n",
      "  [0. 0. 0. 0. 0.]\n",
      "  [0. 0. 0. 0. 0.]]]\n",
      "[[[1. 1. 1. 1. 1.]\n",
      "  [1. 1. 1. 1. 1.]\n",
      "  [1. 1. 1. 1. 1.]\n",
      "  [1. 1. 1. 1. 1.]\n",
      "  [1. 1. 1. 1. 1.]]\n",
      "\n",
      " [[1. 1. 1. 1. 1.]\n",
      "  [1. 1. 1. 1. 1.]\n",
      "  [1. 1. 1. 1. 1.]\n",
      "  [1. 1. 1. 1. 1.]\n",
      "  [1. 1. 1. 1. 1.]]\n",
      "\n",
      " [[1. 1. 1. 1. 1.]\n",
      "  [1. 1. 1. 1. 1.]\n",
      "  [1. 1. 1. 1. 1.]\n",
      "  [1. 1. 1. 1. 1.]\n",
      "  [1. 1. 1. 1. 1.]]]\n",
      "[[[0 0 0 0 0]\n",
      "  [0 0 0 0 0]\n",
      "  [0 0 0 0 0]\n",
      "  [0 0 0 0 0]\n",
      "  [0 0 0 0 0]]\n",
      "\n",
      " [[0 0 0 0 0]\n",
      "  [0 0 0 0 0]\n",
      "  [0 0 0 0 0]\n",
      "  [0 0 0 0 0]\n",
      "  [0 0 0 0 0]]\n",
      "\n",
      " [[0 0 0 0 0]\n",
      "  [0 0 0 0 0]\n",
      "  [0 0 0 0 0]\n",
      "  [0 0 0 0 0]\n",
      "  [0 0 0 0 0]]]\n",
      "[[['1' '1' '1' '1' '1']\n",
      "  ['1' '1' '1' '1' '1']\n",
      "  ['1' '1' '1' '1' '1']\n",
      "  ['1' '1' '1' '1' '1']\n",
      "  ['1' '1' '1' '1' '1']]\n",
      "\n",
      " [['1' '1' '1' '1' '1']\n",
      "  ['1' '1' '1' '1' '1']\n",
      "  ['1' '1' '1' '1' '1']\n",
      "  ['1' '1' '1' '1' '1']\n",
      "  ['1' '1' '1' '1' '1']]\n",
      "\n",
      " [['1' '1' '1' '1' '1']\n",
      "  ['1' '1' '1' '1' '1']\n",
      "  ['1' '1' '1' '1' '1']\n",
      "  ['1' '1' '1' '1' '1']\n",
      "  ['1' '1' '1' '1' '1']]]\n"
     ]
    }
   ],
   "source": [
    "#how to create numpy arrays\n",
    "\n",
    "import numpy as np\n",
    "l = [2,3,\"34\"]\n",
    "np.array(l) #This will convert every element to string\n",
    "print(l)\n",
    "\n",
    "l = [2,3,5]\n",
    "np.array(l)\n",
    "\n",
    "#Helper Functions\n",
    "\n",
    "#Creating 1D array of zeros and ones\n",
    "z = np.zeros(10)\n",
    "o = np.ones(10)\n",
    "print(z)#By Default all values are of Float type\n",
    "print(o)\n",
    "\n",
    "z = np.zeros(10,int) #Covert all elements to integer\n",
    "o = np.ones(10,str) #Convert all element to string\n",
    "print(z)\n",
    "print(o)\n",
    "\n",
    "#Creating Multi-Dimensional array of zeros and ones\n",
    "#pass a tuple\n",
    "\n",
    "#2D\n",
    "z = np.zeros((5,5))\n",
    "o = np.ones((5,5))\n",
    "print(z)#By Default all values are of Float type\n",
    "print(o)\n",
    "\n",
    "z = np.zeros((5,5),int) #Covert all elements to integer\n",
    "o = np.ones((5,5),str) #Convert all element to string\n",
    "print(z)\n",
    "print(o)\n",
    "\n",
    "\n",
    "# nD\n",
    "print()\n",
    "print(\"Multi Dimensional Array\",end=\"\\n\\n\")\n",
    "z = np.zeros((3,5,5)) #3 2D array of 5x5\n",
    "o = np.ones((3,5,5))\n",
    "print(z)#By Default all values are of Float type\n",
    "print(o)\n",
    "\n",
    "z = np.zeros((3,5,5),int) #Covert all elements to integer\n",
    "o = np.ones((3,5,5),str) #Convert all element to string\n",
    "print(z)\n",
    "print(o)\n"
   ]
  },
  {
   "cell_type": "code",
   "execution_count": 34,
   "id": "b9a27c67",
   "metadata": {},
   "outputs": [
    {
     "name": "stdout",
     "output_type": "stream",
     "text": [
      "Shape : (3, 5, 5)\n",
      "Data Type : <U1\n",
      "[1 2 3]\n",
      "[1 4]\n"
     ]
    },
    {
     "data": {
      "text/plain": [
       "array([ 0,  1,  2,  3,  4,  5,  6,  7,  8,  9, 10])"
      ]
     },
     "execution_count": 34,
     "metadata": {},
     "output_type": "execute_result"
    }
   ],
   "source": [
    "#Accessing Elements\n",
    "print(\"Shape :\",o.shape) #Gives Size of matrix\n",
    "print(\"Data Type :\",o.dtype) \n",
    "a = np.array([[1,2,3],[4,5,6]])\n",
    "print(a[0]) #0th row\n",
    "print(a[:,0]) #0th column\n",
    "\n",
    "np.arange(11) "
   ]
  }
 ],
 "metadata": {
  "kernelspec": {
   "display_name": "Python 3 (ipykernel)",
   "language": "python",
   "name": "python3"
  },
  "language_info": {
   "codemirror_mode": {
    "name": "ipython",
    "version": 3
   },
   "file_extension": ".py",
   "mimetype": "text/x-python",
   "name": "python",
   "nbconvert_exporter": "python",
   "pygments_lexer": "ipython3",
   "version": "3.9.7"
  }
 },
 "nbformat": 4,
 "nbformat_minor": 5
}
