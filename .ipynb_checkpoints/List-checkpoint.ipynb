{
 "cells": [
  {
   "cell_type": "code",
   "execution_count": 8,
   "id": "1c9f79b7",
   "metadata": {},
   "outputs": [
    {
     "name": "stdout",
     "output_type": "stream",
     "text": [
      "6\n",
      "4\n",
      "23\n",
      "45\n",
      "5\n",
      "34\n",
      "5\n",
      "Leaders are\n",
      "5 34 45 "
     ]
    }
   ],
   "source": [
    "###### Leaders in an Array\n",
    "n = int(input())\n",
    "arr = []\n",
    "for i in range(n):\n",
    "    x = int(input())\n",
    "    arr.append(x)\n",
    "arr.reverse()\n",
    "leaders = []\n",
    "leader = arr[0]\n",
    "leaders.append(leader)\n",
    "for i in range(1,n):\n",
    "    if arr[i]>leader:\n",
    "        leader = arr[i]\n",
    "        leaders.append(leader)\n",
    "print(\"Leaders are\")\n",
    "for i in range(len(leaders)):\n",
    "    print(leaders[i],end=\" \")\n",
    "        \n",
    "    \n"
   ]
  },
  {
   "cell_type": "code",
   "execution_count": null,
   "id": "df517b73",
   "metadata": {},
   "outputs": [],
   "source": []
  }
 ],
 "metadata": {
  "kernelspec": {
   "display_name": "Python 3 (ipykernel)",
   "language": "python",
   "name": "python3"
  },
  "language_info": {
   "codemirror_mode": {
    "name": "ipython",
    "version": 3
   },
   "file_extension": ".py",
   "mimetype": "text/x-python",
   "name": "python",
   "nbconvert_exporter": "python",
   "pygments_lexer": "ipython3",
   "version": "3.9.7"
  }
 },
 "nbformat": 4,
 "nbformat_minor": 5
}
