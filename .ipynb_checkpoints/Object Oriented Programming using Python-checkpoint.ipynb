{
 "cells": [
  {
   "cell_type": "code",
   "execution_count": null,
   "id": "9595c982",
   "metadata": {},
   "outputs": [],
   "source": [
    "# Encapsulation :Every property(functions,methods) of an object is encapsulated inside a class \n",
    "# Abstraction : There are certain functionalities whose access should not be given to everyone\n",
    "        # Example Evaluation process : There we provide answer as input and get output as marks but we are not aware that how it is evaluated\n",
    "# Inheritaence : It helps us extract out common functionalities further more\n",
    "        #Example a marks class can use common functionalities and methods from a student class such as name,roll etc\n",
    "# polymorphism : Poly : many , Morph : forms  Which means a given object can exist in multiple forms.\n",
    "        #Example : Questions in a question paper can be of different forms like mcq , long , short etc.\n",
    "        #Example : In c++ same function can have different input of diff data types will return diff o/p"
   ]
  }
 ],
 "metadata": {
  "kernelspec": {
   "display_name": "Python 3 (ipykernel)",
   "language": "python",
   "name": "python3"
  },
  "language_info": {
   "codemirror_mode": {
    "name": "ipython",
    "version": 3
   },
   "file_extension": ".py",
   "mimetype": "text/x-python",
   "name": "python",
   "nbconvert_exporter": "python",
   "pygments_lexer": "ipython3",
   "version": "3.9.7"
  }
 },
 "nbformat": 4,
 "nbformat_minor": 5
}
