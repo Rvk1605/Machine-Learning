{
 "cells": [
  {
   "cell_type": "code",
   "execution_count": 20,
   "id": "c00a1345",
   "metadata": {},
   "outputs": [
    {
     "name": "stdout",
     "output_type": "stream",
     "text": [
      "B is Larger\n"
     ]
    }
   ],
   "source": [
    "#If else\n",
    "a = 2\n",
    "b = 3\n",
    "#Maintain The Indentation\n",
    "if (a>b) :\n",
    "    print(\"A is Larger\")\n",
    "elif ( a == b) :\n",
    "    print(\"Equal\")\n",
    "else :\n",
    "    print(\"B is Larger\")"
   ]
  },
  {
   "cell_type": "code",
   "execution_count": 23,
   "id": "ab90822b",
   "metadata": {},
   "outputs": [
    {
     "name": "stdout",
     "output_type": "stream",
     "text": [
      "10\n",
      "1 2 3 4 5 6 7 8 9 10 \n",
      "Done\n"
     ]
    }
   ],
   "source": [
    "#While Loop\n",
    "n = int(input())\n",
    "i=1\n",
    "while(i<=n):\n",
    "    print(i,end=\" \")\n",
    "    i=i+1\n",
    "print()\n",
    "print(\"Done\")"
   ]
  },
  {
   "cell_type": "code",
   "execution_count": 29,
   "id": "74cb0a24",
   "metadata": {},
   "outputs": [
    {
     "name": "stdout",
     "output_type": "stream",
     "text": [
      "1 2 3 4 5 6 7 8 9 10 "
     ]
    }
   ],
   "source": [
    "#Range \n",
    "range(1,10) #from 1 - 9\n",
    "for i in range(1,11):\n",
    "    print(i,end=\" \")"
   ]
  }
 ],
 "metadata": {
  "kernelspec": {
   "display_name": "Python 3 (ipykernel)",
   "language": "python",
   "name": "python3"
  },
  "language_info": {
   "codemirror_mode": {
    "name": "ipython",
    "version": 3
   },
   "file_extension": ".py",
   "mimetype": "text/x-python",
   "name": "python",
   "nbconvert_exporter": "python",
   "pygments_lexer": "ipython3",
   "version": "3.9.7"
  }
 },
 "nbformat": 4,
 "nbformat_minor": 5
}
