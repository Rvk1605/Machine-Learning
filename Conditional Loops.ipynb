{
 "cells": [
  {
   "cell_type": "code",
   "execution_count": 20,
   "id": "c00a1345",
   "metadata": {},
   "outputs": [
    {
     "name": "stdout",
     "output_type": "stream",
     "text": [
      "B is Larger\n"
     ]
    }
   ],
   "source": [
    "#If else\n",
    "a = 2\n",
    "b = 3\n",
    "#Maintain The Indentation\n",
    "if (a>b) :\n",
    "    print(\"A is Larger\")\n",
    "elif ( a == b) :\n",
    "    print(\"Equal\")\n",
    "else :\n",
    "    print(\"B is Larger\")"
   ]
  },
  {
   "cell_type": "code",
   "execution_count": 23,
   "id": "ab90822b",
   "metadata": {},
   "outputs": [
    {
     "name": "stdout",
     "output_type": "stream",
     "text": [
      "10\n",
      "1 2 3 4 5 6 7 8 9 10 \n",
      "Done\n"
     ]
    }
   ],
   "source": [
    "#While Loop\n",
    "n = int(input())\n",
    "i=1\n",
    "while(i<=n):\n",
    "    print(i,end=\" \")\n",
    "    i=i+1\n",
    "print()\n",
    "print(\"Done\")"
   ]
  },
  {
   "cell_type": "code",
   "execution_count": 34,
   "id": "ba678466",
   "metadata": {},
   "outputs": [
    {
     "name": "stdout",
     "output_type": "stream",
     "text": [
      "1 2 3 4 5 6 7 8 9 10 \n",
      "0 1 2 3 4 5 6 7 8 9 10 11 "
     ]
    }
   ],
   "source": [
    "#Range \n",
    "\n",
    "range(1,10) #from 1 - 9 \n",
    "#range(start,end,step)\n",
    "\n",
    "for i in range(1,11):\n",
    "    print(i,end=\" \")\n",
    "print()\n",
    "for i in range(12):\n",
    "    print(i,end=\" \")"
   ]
  },
  {
   "cell_type": "code",
   "execution_count": 1,
   "id": "b6a89a41",
   "metadata": {},
   "outputs": [
    {
     "name": "stdout",
     "output_type": "stream",
     "text": [
      "23\n",
      "Not Prime\n"
     ]
    }
   ],
   "source": [
    "#prime Number\n",
    "n = int(input())\n",
    "flag = 0\n",
    "for i in range(2,n):\n",
    "    if(n%i == 0):\n",
    "        flag = 1\n",
    "        break\n",
    "if(flag == 1):\n",
    "    print(\"Prime\")\n",
    "else : \n",
    "    print(\"Not Prime\")"
   ]
  },
  {
   "cell_type": "code",
   "execution_count": 4,
   "id": "c7b671f2",
   "metadata": {},
   "outputs": [
    {
     "name": "stdout",
     "output_type": "stream",
     "text": [
      "a\n",
      "b\n",
      "c\n",
      "d\n",
      "\n",
      "1\n",
      "Hi\n",
      "4.5\n"
     ]
    }
   ],
   "source": [
    "#Fast Iteration not fast in execution but in implementation\n",
    "s = \"abcd\"\n",
    "for c in s: #means for every charcter in s\n",
    "    print(c)\n",
    "a = (1,\"Hi\",4.5)\n",
    "print()\n",
    "for ele in a:\n",
    "    print(ele)\n",
    "    "
   ]
  }
 ],
 "metadata": {
  "kernelspec": {
   "display_name": "Python 3 (ipykernel)",
   "language": "python",
   "name": "python3"
  },
  "language_info": {
   "codemirror_mode": {
    "name": "ipython",
    "version": 3
   },
   "file_extension": ".py",
   "mimetype": "text/x-python",
   "name": "python",
   "nbconvert_exporter": "python",
   "pygments_lexer": "ipython3",
   "version": "3.9.7"
  }
 },
 "nbformat": 4,
 "nbformat_minor": 5
}
