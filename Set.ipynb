{
 "cells": [
  {
   "cell_type": "code",
   "execution_count": 9,
   "id": "5fdb6d60",
   "metadata": {},
   "outputs": [
    {
     "name": "stdout",
     "output_type": "stream",
     "text": [
      "{4, 5}\n",
      "{1, 2, 3, 4, 5, 6}\n",
      "{1, 2}\n",
      "{64, 2, 3, 4, 5, 11}\n",
      "6\n",
      "3\n",
      "4\n",
      "5\n",
      "6\n"
     ]
    }
   ],
   "source": [
    "#unordered Data Structure with Unique Value\n",
    "#Does not have any index\n",
    "\n",
    "a= set()\n",
    "a = {1,2,4,5}\n",
    "type(a)\n",
    "b = {3,4,5,6}\n",
    "\n",
    "print(a.intersection(b))\n",
    "print(a.union(b))\n",
    "print(a - b)\n",
    "\n",
    "c={11,2,3,2,4,5,64,3,5}\n",
    "print(c) #Automatically removes duplicate Elements\n",
    "\n",
    "#De - duplicates a list using set\n",
    "print(len(set(c)))\n",
    "\n",
    "for i in b:\n",
    "    print(i)"
   ]
  }
 ],
 "metadata": {
  "kernelspec": {
   "display_name": "Python 3 (ipykernel)",
   "language": "python",
   "name": "python3"
  },
  "language_info": {
   "codemirror_mode": {
    "name": "ipython",
    "version": 3
   },
   "file_extension": ".py",
   "mimetype": "text/x-python",
   "name": "python",
   "nbconvert_exporter": "python",
   "pygments_lexer": "ipython3",
   "version": "3.9.7"
  }
 },
 "nbformat": 4,
 "nbformat_minor": 5
}
