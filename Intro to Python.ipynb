{
 "cells": [
  {
   "cell_type": "markdown",
   "id": "029c5be8",
   "metadata": {},
   "source": [
    "## Intro to Jupyter\n",
    "we can write markdown our python code in our cells. You can choose accordingly in the dropdown above."
   ]
  },
  {
   "cell_type": "code",
   "execution_count": 4,
   "id": "8442eb36",
   "metadata": {
    "scrolled": true
   },
   "outputs": [
    {
     "name": "stdout",
     "output_type": "stream",
     "text": [
      "198100-Hello\n"
     ]
    }
   ],
   "source": [
    "#Working of Print Function\n",
    "a=10\n",
    "b=35\n",
    "c=566\n",
    "print(a*b*c ,end=\"-\")\n",
    "print(\"Hello\")"
   ]
  },
  {
   "cell_type": "code",
   "execution_count": 14,
   "id": "8aa462e8",
   "metadata": {},
   "outputs": [
    {
     "data": {
      "text/plain": [
       "19"
      ]
     },
     "execution_count": 14,
     "metadata": {},
     "output_type": "execute_result"
    }
   ],
   "source": [
    "# if we try to print like this it will print only the last Line\n",
    "a=10\n",
    "b=19\n",
    "a\n",
    "b"
   ]
  },
  {
   "cell_type": "code",
   "execution_count": 16,
   "id": "2c982a6a",
   "metadata": {},
   "outputs": [
    {
     "name": "stdout",
     "output_type": "stream",
     "text": [
      "10\n"
     ]
    },
    {
     "data": {
      "text/plain": [
       "19"
      ]
     },
     "execution_count": 16,
     "metadata": {},
     "output_type": "execute_result"
    }
   ],
   "source": [
    "# Last Line is Output\n",
    "a=10\n",
    "b=19\n",
    "print(a)\n",
    "b"
   ]
  },
  {
   "cell_type": "code",
   "execution_count": 17,
   "id": "9fbb2a71",
   "metadata": {},
   "outputs": [
    {
     "name": "stdout",
     "output_type": "stream",
     "text": [
      "<class 'int'>\n",
      "<class 'float'>\n",
      "<class 'complex'>\n"
     ]
    }
   ],
   "source": [
    "#Type of Variable Depends on the Value which is Assigned to it\n",
    "a=10\n",
    "print(type(a))\n",
    "a=10.5\n",
    "print(type(a))\n",
    "a=2+3j\n",
    "print(type(a))"
   ]
  },
  {
   "cell_type": "code",
   "execution_count": 20,
   "id": "e7abae8d",
   "metadata": {},
   "outputs": [
    {
     "name": "stdout",
     "output_type": "stream",
     "text": [
      "(2+3j)\n",
      "19\n"
     ]
    }
   ],
   "source": [
    "#Cells are dependent on prev cells\n",
    "print(a)\n",
    "print(b)"
   ]
  },
  {
   "cell_type": "code",
   "execution_count": 24,
   "id": "9a773036",
   "metadata": {},
   "outputs": [
    {
     "name": "stdout",
     "output_type": "stream",
     "text": [
      "12 19 31\n",
      "31\n",
      "-7\n",
      "228\n",
      "0.631578947368421\n",
      "0\n",
      "319479999370622926848\n",
      "12\n"
     ]
    }
   ],
   "source": [
    "#Operators\n",
    "print(a,b,c)\n",
    "a=12\n",
    "c=a+b\n",
    "print(c)\n",
    "print (a-b)\n",
    "print(a*b)\n",
    "print(a/b)\n",
    "#below gives floor value of division\n",
    "print(a//b)\n",
    "print(a**b)\n",
    "print(a%b)"
   ]
  },
  {
   "cell_type": "code",
   "execution_count": 25,
   "id": "2bf7e539",
   "metadata": {},
   "outputs": [
    {
     "data": {
      "text/plain": [
       "'This is a String'"
      ]
     },
     "execution_count": 25,
     "metadata": {},
     "output_type": "execute_result"
    }
   ],
   "source": [
    "#strings\n",
    "a=\"This is a String\"\n",
    "a"
   ]
  },
  {
   "cell_type": "code",
   "execution_count": 30,
   "id": "fa37559a",
   "metadata": {},
   "outputs": [
    {
     "name": "stdout",
     "output_type": "stream",
     "text": [
      "10\n",
      "<class 'str'>\n",
      "New String\n",
      "New Stringanother\n"
     ]
    },
    {
     "data": {
      "text/plain": [
       "str"
      ]
     },
     "execution_count": 30,
     "metadata": {},
     "output_type": "execute_result"
    }
   ],
   "source": [
    "#String properties\n",
    "print(len(a))\n",
    "print(type(a))\n",
    "#String are immutable i.e\n",
    "#a[0] = 'k' Not Allowed, Invalid\n",
    "a = \"New String\" #Valid as we are not changing any caharcter ,we are just pointing the variable to another string\n",
    "print(a)\n",
    "\n",
    "b=\"another\"\n",
    "\n",
    "#Concatenation\n",
    "c=a+b\n",
    "print(c)\n",
    "\n",
    "#d = c + 2 Inavlid Operation\n",
    "\n",
    "type('2') #This is also string\n",
    "\n"
   ]
  },
  {
   "cell_type": "code",
   "execution_count": 35,
   "id": "a84862e3",
   "metadata": {},
   "outputs": [
    {
     "name": "stdout",
     "output_type": "stream",
     "text": [
      "Abc\n",
      "ABC\n",
      "abc\n",
      "Raj\n",
      "False\n"
     ]
    }
   ],
   "source": [
    "#Few Functions For Strings\n",
    "a = \"Abc\"\n",
    "a.upper() #a variable is not modified\n",
    "print(a)\n",
    "print(a.upper())\n",
    "print(a.lower())\n",
    "a= \"    Raj       \"\n",
    "print(a.strip()) #Remove leading and trailing byte Space\n",
    "print(a.isalpha()) #False as a is having spaces also"
   ]
  },
  {
   "cell_type": "code",
   "execution_count": 1,
   "id": "2b54e45d",
   "metadata": {},
   "outputs": [
    {
     "name": "stdout",
     "output_type": "stream",
     "text": [
      "Rahul\n",
      "Rahul\n",
      "<class 'str'>\n",
      "12345\n",
      "12345\n",
      "<class 'int'>\n"
     ]
    }
   ],
   "source": [
    "#User input\n",
    "a = input() #Returns  a string \n",
    "print(a)\n",
    "print(type(a))\n",
    "\n",
    "b = int(input()) # Convert Input to integer and similarily to other data types\n",
    "print(b)\n",
    "print(type(b))"
   ]
  },
  {
   "cell_type": "code",
   "execution_count": 4,
   "id": "6d4bc7a6",
   "metadata": {},
   "outputs": [
    {
     "name": "stdout",
     "output_type": "stream",
     "text": [
      "a\n",
      "a\n"
     ]
    }
   ],
   "source": [
    "#Negative Indexing\n",
    "s=\"abc\"\n",
    "print(s[0])\n",
    "print(s[-3]) #We can do Negative Indexing as well"
   ]
  },
  {
   "cell_type": "code",
   "execution_count": 12,
   "id": "ce405cef",
   "metadata": {},
   "outputs": [
    {
     "name": "stdout",
     "output_type": "stream",
     "text": [
      "abcdef\n",
      "bc\n",
      "de\n",
      "abcd\n",
      "def\n",
      "abcdef\n"
     ]
    }
   ],
   "source": [
    "#Slicing\n",
    "s= \"abcdef\"\n",
    "s1 = s[1:3] #Gives Element from startIndex : endIndex - 1\n",
    "s2  = s[-3:-1] # -1 is last index  of 'f' ans -6 is index of 'a'\n",
    "print(s)\n",
    "print(s1)\n",
    "print(s2)\n",
    "print(s[:4])\n",
    "print(s[3:])\n",
    "print(s[:]) # Equal to s"
   ]
  },
  {
   "cell_type": "code",
   "execution_count": 18,
   "id": "3ea470a0",
   "metadata": {},
   "outputs": [
    {
     "name": "stdout",
     "output_type": "stream",
     "text": [
      "<class 'tuple'>\n",
      "1\n",
      "(1, 'Hello', 4.5)\n",
      "(1, 'Hello')\n"
     ]
    }
   ],
   "source": [
    "#Tuples\n",
    "t=(1,2,3,4)\n",
    "print(type(t))\n",
    "#Accessing Ele\n",
    "print(t[0])\n",
    "\n",
    "t = (1,\"Hello\",4.5)\n",
    "print(t)\n",
    "\n",
    "#They are Immutable but can point to a different tuple\n",
    "#t[0] = 45 INVALID\n",
    "\n",
    "print(t[0:2])\n",
    "\n"
   ]
  },
  {
   "cell_type": "code",
   "execution_count": 21,
   "id": "330298aa",
   "metadata": {},
   "outputs": [
    {
     "name": "stdout",
     "output_type": "stream",
     "text": [
      "(1, 3, 'Hello', 46.5)\n",
      "(1, 3, 'Hello', 46.5, 1, 3, 'Hello', 46.5, 1, 3, 'Hello', 46.5)\n",
      "True\n",
      "False\n"
     ]
    }
   ],
   "source": [
    "#Operators on Tupple\n",
    "t = (1,3)\n",
    "k = (\"Hello\",46.5)\n",
    "s = t+k\n",
    "# m = t*k INVALID\n",
    "print(s)\n",
    "\n",
    "p = s*3\n",
    "print(p) #Concatenates 3 times s in p\n",
    "\n",
    "print(1 in t)\n",
    "print(\"Hell\" in k)"
   ]
  },
  {
   "cell_type": "code",
   "execution_count": 22,
   "id": "b2575d34",
   "metadata": {},
   "outputs": [],
   "source": [
    "#Conditional ,Loop ,Function\n",
    "#Logical Operators\n",
    "\n",
    "x = 10\n",
    "y = 20\n",
    "z = 30\n",
    "x>y and x>z #equal to &&\n"
   ]
  }
 ],
 "metadata": {
  "kernelspec": {
   "display_name": "Python 3 (ipykernel)",
   "language": "python",
   "name": "python3"
  },
  "language_info": {
   "codemirror_mode": {
    "name": "ipython",
    "version": 3
   },
   "file_extension": ".py",
   "mimetype": "text/x-python",
   "name": "python",
   "nbconvert_exporter": "python",
   "pygments_lexer": "ipython3",
   "version": "3.9.7"
  }
 },
 "nbformat": 4,
 "nbformat_minor": 5
}
