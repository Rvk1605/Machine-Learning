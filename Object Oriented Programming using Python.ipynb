{
 "cells": [
  {
   "cell_type": "code",
   "execution_count": 1,
   "id": "9595c982",
   "metadata": {},
   "outputs": [],
   "source": [
    "# Encapsulation :Every property(functions,methods) of an object is encapsulated inside a class \n",
    "# Abstraction : There are certain functionalities whose access should not be given to everyone\n",
    "        # Example Evaluation process : There we provide answer as input and get output as marks but we are not aware that how it is evaluated\n",
    "# Inheritaence : It helps us extract out common functionalities further more\n",
    "        #Example a marks class can use common functionalities and methods from a student class such as name,roll etc\n",
    "# polymorphism : Poly : many , Morph : forms  Which means a given object can exist in multiple forms.\n",
    "        #Example : Questions in a question paper can be of different forms like mcq , long , short etc.\n",
    "        #Example : In c++ same function can have different input of diff data types will return diff o/p"
   ]
  },
  {
   "cell_type": "code",
   "execution_count": 4,
   "id": "e26c35da",
   "metadata": {},
   "outputs": [
    {
     "name": "stdout",
     "output_type": "stream",
     "text": [
      "Hello\n",
      "True\n"
     ]
    }
   ],
   "source": [
    "# Python treats everything as object\n",
    "# Evry object in python has a flag that whether this object is callable or not.\n",
    "#     Except :int,float which are not callable\n",
    "\n",
    "print(\"Hello\")\n",
    "\n",
    "#Pass in a class means empty class\n",
    "class A:\n",
    "    pass\n",
    "\n",
    "a = A()\n",
    "print(isinstance(a,object))"
   ]
  },
  {
   "cell_type": "code",
   "execution_count": 8,
   "id": "3576782b",
   "metadata": {},
   "outputs": [
    {
     "name": "stdout",
     "output_type": "stream",
     "text": [
      "<__main__.Person object at 0x00000245B5DE1070>\n"
     ]
    }
   ],
   "source": [
    "class Person:\n",
    "    pass\n",
    " \n",
    "p = Person() #Returns instance of P\n",
    "print(p)\n",
    "\n",
    "#__main__ is the module in which the class exists\n",
    "#0x00000245B5DE1340 is address where the object is located"
   ]
  },
  {
   "cell_type": "code",
   "execution_count": 10,
   "id": "857bd5f8",
   "metadata": {},
   "outputs": [
    {
     "name": "stdout",
     "output_type": "stream",
     "text": [
      "5\n"
     ]
    }
   ],
   "source": [
    "#How to make a class\n",
    "\n",
    "class myClass:\n",
    "    x = 5\n",
    "p1 = myClass\n",
    "print(p1.x)"
   ]
  },
  {
   "cell_type": "code",
   "execution_count": 13,
   "id": "6efeadeb",
   "metadata": {},
   "outputs": [
    {
     "name": "stdout",
     "output_type": "stream",
     "text": [
      "Rajveer\n",
      "21\n",
      "My name is Rajveer\n"
     ]
    }
   ],
   "source": [
    "# init function (similar to constructor in c++)\n",
    "\n",
    "class Person:\n",
    "    def __init__(self,name,age):\n",
    "        self.name = name\n",
    "        self.age = age\n",
    "    def myFunc(self):\n",
    "        print(\"My name is\",self.name)\n",
    "\n",
    "#self contains the reference of the instance/object which has called the function\n",
    "#self is not a reserved keyword .We can use any keyword instead\n",
    "\n",
    "p1 = Person(\"Rajveer\",21)\n",
    "print(p1.name)\n",
    "print(p1.age)\n",
    "p1.myFunc()\n",
    "\n",
    "# del objName is used to delete an object"
   ]
  },
  {
   "cell_type": "code",
   "execution_count": 16,
   "id": "d8b50aa2",
   "metadata": {},
   "outputs": [
    {
     "name": "stdout",
     "output_type": "stream",
     "text": [
      "Rajveer\n",
      "Kumar\n"
     ]
    }
   ],
   "source": [
    "#inheritence\n",
    "class Person:\n",
    "    def __init__(self,fname,lname):\n",
    "        self.firstName = fname\n",
    "        self.lastName = lname\n",
    "    def printName(self):\n",
    "        print(self.firstName)\n",
    "        print(self.lastName)\n",
    "x= Person(\"Rajveer\" ,\"Kumar\")\n",
    "x.printName()"
   ]
  },
  {
   "cell_type": "code",
   "execution_count": 18,
   "id": "8499d2bb",
   "metadata": {},
   "outputs": [],
   "source": [
    "# class Student(Person):\n",
    "# #     def __init__(self,fname,lname) This will remove inheritence of person if we create student own init function\n",
    "# #         pass\n",
    "#     pass\n",
    "\n",
    "# y = Student(\"Rahul\",\"Kr\")\n",
    "# y.printName()"
   ]
  },
  {
   "cell_type": "code",
   "execution_count": 32,
   "id": "ba8cc34b",
   "metadata": {},
   "outputs": [
    {
     "name": "stdout",
     "output_type": "stream",
     "text": [
      "Rahul\n",
      "Kr\n"
     ]
    }
   ],
   "source": [
    "class Student(Person):\n",
    "   def __init__(self,fname,lname):\n",
    "        Person.__init__(self,fname,lname)\n",
    "#         super().__init__(fname,lname) Does same thing as line 3 but using super function which does not require self function\n",
    "\n",
    "y = Student(\"Rahul\",\"Kr\")\n",
    "y.printName()"
   ]
  }
 ],
 "metadata": {
  "kernelspec": {
   "display_name": "Python 3 (ipykernel)",
   "language": "python",
   "name": "python3"
  },
  "language_info": {
   "codemirror_mode": {
    "name": "ipython",
    "version": 3
   },
   "file_extension": ".py",
   "mimetype": "text/x-python",
   "name": "python",
   "nbconvert_exporter": "python",
   "pygments_lexer": "ipython3",
   "version": "3.9.7"
  }
 },
 "nbformat": 4,
 "nbformat_minor": 5
}
