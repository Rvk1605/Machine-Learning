{
 "cells": [
  {
   "cell_type": "code",
   "execution_count": 4,
   "id": "747ea3ee",
   "metadata": {},
   "outputs": [
    {
     "name": "stdout",
     "output_type": "stream",
     "text": [
      "30\n"
     ]
    }
   ],
   "source": [
    "#functions\n",
    "\n",
    "def sum(a,b):\n",
    "    return a+b\n",
    "\n",
    "x = 10\n",
    "y = 20\n",
    "print(sum(x,y))"
   ]
  },
  {
   "cell_type": "code",
   "execution_count": 8,
   "id": "f38c28e0",
   "metadata": {},
   "outputs": [
    {
     "name": "stdout",
     "output_type": "stream",
     "text": [
      "80\n",
      "40\n",
      "1000\n",
      "162\n",
      "1500\n"
     ]
    }
   ],
   "source": [
    "#Default Arguments\n",
    "\n",
    "def pro(a=2,b=4,c=10):\n",
    "    return a*b*c;\n",
    "print(pro());\n",
    "print(pro(1));\n",
    "print(pro(10,10))\n",
    "print(pro(3,6,9))\n",
    "print(pro(b=75)) #Specific Value Given to b"
   ]
  },
  {
   "cell_type": "code",
   "execution_count": 10,
   "id": "fa011c54",
   "metadata": {},
   "outputs": [
    {
     "name": "stdout",
     "output_type": "stream",
     "text": [
      "(45, 5, 6, 6, 7, 46, 444)\n",
      "<class 'tuple'>\n",
      "Sum =  564\n"
     ]
    }
   ],
   "source": [
    "#variable number of Inputs to a function\n",
    "def sum(a,b,*more):\n",
    "    print(more)\n",
    "    print(type(more))\n",
    "    sum = a+b\n",
    "    for i in more:\n",
    "        sum = sum + i\n",
    "    return sum\n",
    "\n",
    "print(\"Sum = \",sum(2,3 ,45,5 , 6, 6, 7, 46,444))"
   ]
  },
  {
   "cell_type": "code",
   "execution_count": 14,
   "id": "767985ef",
   "metadata": {},
   "outputs": [
    {
     "name": "stdout",
     "output_type": "stream",
     "text": [
      "(12, -2, 35)\n",
      "<class 'tuple'>\n",
      "42   -26   272\n"
     ]
    }
   ],
   "source": [
    "#More Than One Return Value\n",
    "def dummy(a,b):\n",
    "    return a+b,a-b,a*b\n",
    "print(dummy(5,7))\n",
    "print(type(dummy(5,7)))\n",
    "sum1 ,diff , mul = dummy(8 ,34)\n",
    "print(sum1, \" \" , diff ,\" \",mul)"
   ]
  }
 ],
 "metadata": {
  "kernelspec": {
   "display_name": "Python 3 (ipykernel)",
   "language": "python",
   "name": "python3"
  },
  "language_info": {
   "codemirror_mode": {
    "name": "ipython",
    "version": 3
   },
   "file_extension": ".py",
   "mimetype": "text/x-python",
   "name": "python",
   "nbconvert_exporter": "python",
   "pygments_lexer": "ipython3",
   "version": "3.9.7"
  }
 },
 "nbformat": 4,
 "nbformat_minor": 5
}
