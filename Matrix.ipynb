{
 "cells": [
  {
   "cell_type": "code",
   "execution_count": 17,
   "id": "8894a83d",
   "metadata": {},
   "outputs": [
    {
     "name": "stdout",
     "output_type": "stream",
     "text": [
      "[1, 2, 3]\n",
      "[4, 5]\n",
      "[0, 1, 2, 3, 4, 5, 6, 7, 8, 9]\n",
      "[[0, 0, 0], [0, 0, 0], [0, 0, 0], [0, 0, 0], [0, 0, 0], [0, 0, 0], [0, 0, 0], [0, 0, 0], [0, 0, 0], [0, 0, 0], [0, 0, 0]]\n",
      "\n",
      "[[0, 1, 2, 3, 4], [5, 6, 7, 8, 9], [10, 11, 12, 13, 14], [15, 16, 17, 18, 19], [20, 21, 22, 23, 24], [25, 26, 27, 28, 29], [30, 31, 32, 33, 34], [35, 36, 37, 38, 39], [40, 41, 42, 43, 44], [45, 46, 47, 48, 49]]\n",
      "2 3\n",
      "2 3 4 5 6 7 8\n",
      "[[2, 3, 4], [5, 6, 7]]\n"
     ]
    }
   ],
   "source": [
    "#List of List form a matrix\n",
    "l = [[1,2,3],[4,5]]\n",
    "print(l[0])\n",
    "print(l[1])\n",
    "\n",
    "l1 = [i for i in range(10)]\n",
    "print(l1)\n",
    "\n",
    "l2 = [[0,0,0] for i in range(11)]\n",
    "print(l2)\n",
    "print()\n",
    "\n",
    "#One Liner Matrix build\n",
    "l3 = [[5*i+j for j in range(5)] for i in range(10)]\n",
    "print(l3)\n",
    "\n",
    "\n",
    "#How to take input in 2d array\n",
    "mat = []\n",
    "n , m= input().strip().split(\" \")\n",
    "n = int(n)\n",
    "m = int(m)\n",
    "\n",
    "\n",
    "l = [int(i) for i in input().strip().split()] #List input in  a single line\n",
    "for i in range(n):\n",
    "    mat.append([])\n",
    "    for j in range(m):\n",
    "        mat[i].append(l[i*m+j])\n",
    "print(mat)\n",
    "\n"
   ]
  },
  {
   "cell_type": "code",
   "execution_count": 20,
   "id": "9fefdd15",
   "metadata": {},
   "outputs": [
    {
     "name": "stdout",
     "output_type": "stream",
     "text": [
      "2 3\n",
      "5 2 3 6 7 4 "
     ]
    }
   ],
   "source": [
    "#Wave print Problem\n",
    "print(n,m)\n",
    "for j in range(m):\n",
    "    if(j%2 == 0 ):\n",
    "        for i in range(n):\n",
    "            print(mat[i][j],end=\" \")\n",
    "    else:\n",
    "        for i in range(n-1,-1,-1):\n",
    "            print(mat[i][j],end=\" \")\n"
   ]
  }
 ],
 "metadata": {
  "kernelspec": {
   "display_name": "Python 3 (ipykernel)",
   "language": "python",
   "name": "python3"
  },
  "language_info": {
   "codemirror_mode": {
    "name": "ipython",
    "version": 3
   },
   "file_extension": ".py",
   "mimetype": "text/x-python",
   "name": "python",
   "nbconvert_exporter": "python",
   "pygments_lexer": "ipython3",
   "version": "3.9.7"
  }
 },
 "nbformat": 4,
 "nbformat_minor": 5
}
