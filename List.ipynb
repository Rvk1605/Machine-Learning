{
 "cells": [
  {
   "cell_type": "code",
   "execution_count": 8,
   "id": "55c4119c",
   "metadata": {},
   "outputs": [
    {
     "name": "stdout",
     "output_type": "stream",
     "text": [
      "6\n",
      "4\n",
      "23\n",
      "45\n",
      "5\n",
      "34\n",
      "5\n",
      "Leaders are\n",
      "5 34 45 "
     ]
    }
   ],
   "source": [
    "###### Leaders in an Array\n",
    "n = int(input())\n",
    "arr = []\n",
    "for i in range(n):\n",
    "    x = int(input())\n",
    "    arr.append(x)\n",
    "arr.reverse()\n",
    "leaders = []\n",
    "leader = arr[0]\n",
    "leaders.append(leader)\n",
    "for i in range(1,n):\n",
    "    if arr[i]>leader:\n",
    "        leader = arr[i]\n",
    "        leaders.append(leader)\n",
    "print(\"Leaders are\")\n",
    "for i in range(len(leaders)):\n",
    "    print(leaders[i],end=\" \")\n",
    "        \n"
   ]
  },
  {
   "cell_type": "code",
   "execution_count": 19,
   "id": "3441ac13",
   "metadata": {},
   "outputs": [
    {
     "name": "stdout",
     "output_type": "stream",
     "text": [
      "[0, 1, 2, 3, 4, 5, 6, 7, 8, 9, 10]\n",
      "[1, 2, 'a', True]\n",
      "[2, 3, 4, 5]\n"
     ]
    }
   ],
   "source": [
    "#list \n",
    "a = list() #EMPTY LIST\n",
    "a = [] #empty list\n",
    "a1 = list(a) #using list\n",
    "\n",
    "#using range\n",
    "\n",
    "a2 = [i for i in range(11)]\n",
    "print(a2)\n",
    "\n",
    "#A list can have multiple type of data\n",
    "a6 = [1,2,\"a\",True]\n",
    "print(a6)\n",
    "\n",
    "#can be accessed using index\n",
    "#slicing can also be done\n",
    "\n",
    "a2 = a2[2:6] #give element from index 2 to 6-1 \n",
    "print(a2)"
   ]
  },
  {
   "cell_type": "code",
   "execution_count": 28,
   "id": "ea96a19e",
   "metadata": {},
   "outputs": [
    {
     "name": "stdout",
     "output_type": "stream",
     "text": [
      "34 5  6 77\n",
      "34\n",
      "5\n",
      "6\n",
      "77\n",
      "34 5 6 6\n",
      "[34, 5, 6, 6]\n"
     ]
    }
   ],
   "source": [
    "#user input in list\n",
    "str = \"1 2 3 4\"\n",
    "str.split(\" \")\n",
    "\n",
    "str = input().strip()\n",
    "list = str.split()\n",
    "for i in range(0,len(list)):\n",
    "    list[i] = int(list[i])\n",
    "\n",
    "for i in range(len(list)):\n",
    "    print(list[i])\n",
    "    \n",
    "# One Liner in integer\n",
    "l = [int(x) for x in input().strip().split(\" \")]\n",
    "print(l)"
   ]
  },
  {
   "cell_type": "code",
   "execution_count": 30,
   "id": "4d0f0a3d",
   "metadata": {},
   "outputs": [
    {
     "name": "stdout",
     "output_type": "stream",
     "text": [
      "{23: 34, 'str': 345}\n",
      "23:45\n",
      "str:345\n",
      "{'str': 345}\n",
      "1\n",
      "False\n",
      "True\n",
      "dict_keys([])\n",
      "dict_values([])\n"
     ]
    }
   ],
   "source": [
    "#Dictionary is Key Value Pairs\n",
    "\n",
    "d = {} #Empty Dictionary\n",
    "d[23] = 34\n",
    "d[\"str\"] = 345\n",
    "print(d)\n",
    "\n",
    "d[23] = 45 #this will update if key is present and if not present it will create the key\n",
    "#Keys are Immutable (like string , tuple,int ,float)\n",
    "\n",
    "#Accessing a dictionary\n",
    "\n",
    "for i in d:\n",
    "    print(i,end=\":\")\n",
    "    print(d[i])\n",
    "\n",
    "#Deleting an element\n",
    "\n",
    "del d[23]\n",
    "print(d)\n",
    "\n",
    "#Common Functions\n",
    "d1 = {1:\"Hi\"}\n",
    "d2 = {1:\"Hi\"}\n",
    "d1 == d2 #Compare if Both Dictionary are same\n",
    "\n",
    "print(len(d2)) # No. of Keys\n",
    "d1.clear() #Clear al the key and Value\n",
    "\n",
    "#Check if Key Exists\n",
    "\n",
    "print(2 in d1)\n",
    "print(1 in d2)\n",
    "\n",
    "print(d1.keys())\n",
    "print(d1.values())"
   ]
  }
 ],
 "metadata": {
  "kernelspec": {
   "display_name": "Python 3 (ipykernel)",
   "language": "python",
   "name": "python3"
  },
  "language_info": {
   "codemirror_mode": {
    "name": "ipython",
    "version": 3
   },
   "file_extension": ".py",
   "mimetype": "text/x-python",
   "name": "python",
   "nbconvert_exporter": "python",
   "pygments_lexer": "ipython3",
   "version": "3.9.7"
  }
 },
 "nbformat": 4,
 "nbformat_minor": 5
}
